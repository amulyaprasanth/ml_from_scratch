{
 "cells": [
  {
   "cell_type": "markdown",
   "id": "f495c35e",
   "metadata": {},
   "source": [
    "# Support Vector Machines\n",
    "\n",
    "This notebook contains 2 implementations of Support Vector Machines\n",
    "\n",
    "1. Implementing from scratch\n",
    "2. Scikit-learn implemetation"
   ]
  },
  {
   "cell_type": "code",
   "execution_count": 1,
   "id": "70f9d1d3",
   "metadata": {},
   "outputs": [],
   "source": [
    "# Let's import the required libraries\n",
    "import numpy as np\n",
    "import pandas as pd\n",
    "\n",
    "%matplotlib inline\n",
    "import matplotlib.pyplot as plt\n",
    "\n",
    "from sklearn.model_selection import train_test_split\n",
    "from sklearn.svm import SVC"
   ]
  },
  {
   "cell_type": "code",
   "execution_count": 2,
   "id": "35afc406",
   "metadata": {},
   "outputs": [
    {
     "data": {
      "text/plain": [
       "((2666, 10), (2666,), (667, 10), (667,))"
      ]
     },
     "execution_count": 2,
     "metadata": {},
     "output_type": "execute_result"
    }
   ],
   "source": [
    "# Import the required dataset\n",
    "data = pd.read_csv(\"data/telecom_churn.csv\")\n",
    "\n",
    "# Split the data into features and labels \n",
    "X, y = data.drop(\"Churn\", axis=1).values, data[\"Churn\"].values\n",
    "\n",
    "# Split the data into training and testing sets\n",
    "X_train, X_test, y_train, y_test = train_test_split(X, y, test_size=0.2, random_state=42)\n",
    "\n",
    "X_train.shape, y_train.shape, X_test.shape, y_test.shape"
   ]
  },
  {
   "cell_type": "code",
   "execution_count": 3,
   "id": "93adce2d",
   "metadata": {},
   "outputs": [
    {
     "data": {
      "text/plain": [
       "(array([-1,  1]), array([-1,  1]))"
      ]
     },
     "execution_count": 3,
     "metadata": {},
     "output_type": "execute_result"
    }
   ],
   "source": [
    "# Change the labels into +1 and -1\n",
    "y_train[np.where(y_train == 0)] = -1\n",
    "y_test[np.where(y_test == 0)] = -1\n",
    "\n",
    "np.unique(y_train), np.unique(y_test)"
   ]
  },
  {
   "cell_type": "markdown",
   "id": "8fd8fed5",
   "metadata": {},
   "source": [
    "## Modelling\n",
    "\n",
    "### 1. From Scratch"
   ]
  }
 ],
 "metadata": {
  "kernelspec": {
   "display_name": ".venv",
   "language": "python",
   "name": "python3"
  },
  "language_info": {
   "codemirror_mode": {
    "name": "ipython",
    "version": 3
   },
   "file_extension": ".py",
   "mimetype": "text/x-python",
   "name": "python",
   "nbconvert_exporter": "python",
   "pygments_lexer": "ipython3",
   "version": "3.10.11"
  }
 },
 "nbformat": 4,
 "nbformat_minor": 5
}
