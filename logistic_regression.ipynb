{
 "cells": [
  {
   "cell_type": "markdown",
   "metadata": {},
   "source": [
    "# Logistic Regression\n",
    "\n",
    "In this notebook, we will implement logistic regression in 2 ways\n",
    "\n",
    "1. Scratch\n",
    "2. using `sklearn` module"
   ]
  },
  {
   "cell_type": "code",
   "execution_count": 1,
   "metadata": {},
   "outputs": [],
   "source": [
    "# Let's import the required libraries\n",
    "import numpy as np\n",
    "import pandas as pd\n",
    "\n",
    "%matplotlib inline\n",
    "import matplotlib.pyplot as plt\n",
    "\n",
    "from sklearn.linear_model import LogisticRegression"
   ]
  },
  {
   "cell_type": "code",
   "execution_count": 2,
   "metadata": {},
   "outputs": [
    {
     "data": {
      "text/html": [
       "<div>\n",
       "<style scoped>\n",
       "    .dataframe tbody tr th:only-of-type {\n",
       "        vertical-align: middle;\n",
       "    }\n",
       "\n",
       "    .dataframe tbody tr th {\n",
       "        vertical-align: top;\n",
       "    }\n",
       "\n",
       "    .dataframe thead th {\n",
       "        text-align: right;\n",
       "    }\n",
       "</style>\n",
       "<table border=\"1\" class=\"dataframe\">\n",
       "  <thead>\n",
       "    <tr style=\"text-align: right;\">\n",
       "      <th></th>\n",
       "      <th>Churn</th>\n",
       "      <th>AccountWeeks</th>\n",
       "      <th>ContractRenewal</th>\n",
       "      <th>DataPlan</th>\n",
       "      <th>DataUsage</th>\n",
       "      <th>CustServCalls</th>\n",
       "      <th>DayMins</th>\n",
       "      <th>DayCalls</th>\n",
       "      <th>MonthlyCharge</th>\n",
       "      <th>OverageFee</th>\n",
       "      <th>RoamMins</th>\n",
       "    </tr>\n",
       "  </thead>\n",
       "  <tbody>\n",
       "    <tr>\n",
       "      <th>0</th>\n",
       "      <td>0</td>\n",
       "      <td>128</td>\n",
       "      <td>1</td>\n",
       "      <td>1</td>\n",
       "      <td>2.7</td>\n",
       "      <td>1</td>\n",
       "      <td>265.1</td>\n",
       "      <td>110</td>\n",
       "      <td>89.0</td>\n",
       "      <td>9.87</td>\n",
       "      <td>10.0</td>\n",
       "    </tr>\n",
       "    <tr>\n",
       "      <th>1</th>\n",
       "      <td>0</td>\n",
       "      <td>107</td>\n",
       "      <td>1</td>\n",
       "      <td>1</td>\n",
       "      <td>3.7</td>\n",
       "      <td>1</td>\n",
       "      <td>161.6</td>\n",
       "      <td>123</td>\n",
       "      <td>82.0</td>\n",
       "      <td>9.78</td>\n",
       "      <td>13.7</td>\n",
       "    </tr>\n",
       "    <tr>\n",
       "      <th>2</th>\n",
       "      <td>0</td>\n",
       "      <td>137</td>\n",
       "      <td>1</td>\n",
       "      <td>0</td>\n",
       "      <td>0.0</td>\n",
       "      <td>0</td>\n",
       "      <td>243.4</td>\n",
       "      <td>114</td>\n",
       "      <td>52.0</td>\n",
       "      <td>6.06</td>\n",
       "      <td>12.2</td>\n",
       "    </tr>\n",
       "    <tr>\n",
       "      <th>3</th>\n",
       "      <td>0</td>\n",
       "      <td>84</td>\n",
       "      <td>0</td>\n",
       "      <td>0</td>\n",
       "      <td>0.0</td>\n",
       "      <td>2</td>\n",
       "      <td>299.4</td>\n",
       "      <td>71</td>\n",
       "      <td>57.0</td>\n",
       "      <td>3.10</td>\n",
       "      <td>6.6</td>\n",
       "    </tr>\n",
       "    <tr>\n",
       "      <th>4</th>\n",
       "      <td>0</td>\n",
       "      <td>75</td>\n",
       "      <td>0</td>\n",
       "      <td>0</td>\n",
       "      <td>0.0</td>\n",
       "      <td>3</td>\n",
       "      <td>166.7</td>\n",
       "      <td>113</td>\n",
       "      <td>41.0</td>\n",
       "      <td>7.42</td>\n",
       "      <td>10.1</td>\n",
       "    </tr>\n",
       "  </tbody>\n",
       "</table>\n",
       "</div>"
      ],
      "text/plain": [
       "   Churn  AccountWeeks  ContractRenewal  DataPlan  DataUsage  CustServCalls  \\\n",
       "0      0           128                1         1        2.7              1   \n",
       "1      0           107                1         1        3.7              1   \n",
       "2      0           137                1         0        0.0              0   \n",
       "3      0            84                0         0        0.0              2   \n",
       "4      0            75                0         0        0.0              3   \n",
       "\n",
       "   DayMins  DayCalls  MonthlyCharge  OverageFee  RoamMins  \n",
       "0    265.1       110           89.0        9.87      10.0  \n",
       "1    161.6       123           82.0        9.78      13.7  \n",
       "2    243.4       114           52.0        6.06      12.2  \n",
       "3    299.4        71           57.0        3.10       6.6  \n",
       "4    166.7       113           41.0        7.42      10.1  "
      ]
     },
     "execution_count": 2,
     "metadata": {},
     "output_type": "execute_result"
    }
   ],
   "source": [
    "# Load in the dataset\n",
    "data = pd.read_csv(\"data/telecom_churn.csv\")\n",
    "\n",
    "data.head()"
   ]
  },
  {
   "cell_type": "markdown",
   "metadata": {},
   "source": [
    "### Get the information about the dataaset"
   ]
  },
  {
   "cell_type": "code",
   "execution_count": 3,
   "metadata": {},
   "outputs": [
    {
     "name": "stdout",
     "output_type": "stream",
     "text": [
      "<class 'pandas.core.frame.DataFrame'>\n",
      "RangeIndex: 3333 entries, 0 to 3332\n",
      "Data columns (total 11 columns):\n",
      " #   Column           Non-Null Count  Dtype  \n",
      "---  ------           --------------  -----  \n",
      " 0   Churn            3333 non-null   int64  \n",
      " 1   AccountWeeks     3333 non-null   int64  \n",
      " 2   ContractRenewal  3333 non-null   int64  \n",
      " 3   DataPlan         3333 non-null   int64  \n",
      " 4   DataUsage        3333 non-null   float64\n",
      " 5   CustServCalls    3333 non-null   int64  \n",
      " 6   DayMins          3333 non-null   float64\n",
      " 7   DayCalls         3333 non-null   int64  \n",
      " 8   MonthlyCharge    3333 non-null   float64\n",
      " 9   OverageFee       3333 non-null   float64\n",
      " 10  RoamMins         3333 non-null   float64\n",
      "dtypes: float64(5), int64(6)\n",
      "memory usage: 286.6 KB\n"
     ]
    }
   ],
   "source": [
    "data.info()"
   ]
  },
  {
   "cell_type": "code",
   "execution_count": 4,
   "metadata": {},
   "outputs": [
    {
     "data": {
      "text/html": [
       "<div>\n",
       "<style scoped>\n",
       "    .dataframe tbody tr th:only-of-type {\n",
       "        vertical-align: middle;\n",
       "    }\n",
       "\n",
       "    .dataframe tbody tr th {\n",
       "        vertical-align: top;\n",
       "    }\n",
       "\n",
       "    .dataframe thead th {\n",
       "        text-align: right;\n",
       "    }\n",
       "</style>\n",
       "<table border=\"1\" class=\"dataframe\">\n",
       "  <thead>\n",
       "    <tr style=\"text-align: right;\">\n",
       "      <th></th>\n",
       "      <th>Churn</th>\n",
       "      <th>AccountWeeks</th>\n",
       "      <th>ContractRenewal</th>\n",
       "      <th>DataPlan</th>\n",
       "      <th>DataUsage</th>\n",
       "      <th>CustServCalls</th>\n",
       "      <th>DayMins</th>\n",
       "      <th>DayCalls</th>\n",
       "      <th>MonthlyCharge</th>\n",
       "      <th>OverageFee</th>\n",
       "      <th>RoamMins</th>\n",
       "    </tr>\n",
       "  </thead>\n",
       "  <tbody>\n",
       "    <tr>\n",
       "      <th>count</th>\n",
       "      <td>3333.000000</td>\n",
       "      <td>3333.000000</td>\n",
       "      <td>3333.000000</td>\n",
       "      <td>3333.000000</td>\n",
       "      <td>3333.000000</td>\n",
       "      <td>3333.000000</td>\n",
       "      <td>3333.000000</td>\n",
       "      <td>3333.000000</td>\n",
       "      <td>3333.000000</td>\n",
       "      <td>3333.000000</td>\n",
       "      <td>3333.000000</td>\n",
       "    </tr>\n",
       "    <tr>\n",
       "      <th>mean</th>\n",
       "      <td>0.144914</td>\n",
       "      <td>101.064806</td>\n",
       "      <td>0.903090</td>\n",
       "      <td>0.276628</td>\n",
       "      <td>0.816475</td>\n",
       "      <td>1.562856</td>\n",
       "      <td>179.775098</td>\n",
       "      <td>100.435644</td>\n",
       "      <td>56.305161</td>\n",
       "      <td>10.051488</td>\n",
       "      <td>10.237294</td>\n",
       "    </tr>\n",
       "    <tr>\n",
       "      <th>std</th>\n",
       "      <td>0.352067</td>\n",
       "      <td>39.822106</td>\n",
       "      <td>0.295879</td>\n",
       "      <td>0.447398</td>\n",
       "      <td>1.272668</td>\n",
       "      <td>1.315491</td>\n",
       "      <td>54.467389</td>\n",
       "      <td>20.069084</td>\n",
       "      <td>16.426032</td>\n",
       "      <td>2.535712</td>\n",
       "      <td>2.791840</td>\n",
       "    </tr>\n",
       "    <tr>\n",
       "      <th>min</th>\n",
       "      <td>0.000000</td>\n",
       "      <td>1.000000</td>\n",
       "      <td>0.000000</td>\n",
       "      <td>0.000000</td>\n",
       "      <td>0.000000</td>\n",
       "      <td>0.000000</td>\n",
       "      <td>0.000000</td>\n",
       "      <td>0.000000</td>\n",
       "      <td>14.000000</td>\n",
       "      <td>0.000000</td>\n",
       "      <td>0.000000</td>\n",
       "    </tr>\n",
       "    <tr>\n",
       "      <th>25%</th>\n",
       "      <td>0.000000</td>\n",
       "      <td>74.000000</td>\n",
       "      <td>1.000000</td>\n",
       "      <td>0.000000</td>\n",
       "      <td>0.000000</td>\n",
       "      <td>1.000000</td>\n",
       "      <td>143.700000</td>\n",
       "      <td>87.000000</td>\n",
       "      <td>45.000000</td>\n",
       "      <td>8.330000</td>\n",
       "      <td>8.500000</td>\n",
       "    </tr>\n",
       "    <tr>\n",
       "      <th>50%</th>\n",
       "      <td>0.000000</td>\n",
       "      <td>101.000000</td>\n",
       "      <td>1.000000</td>\n",
       "      <td>0.000000</td>\n",
       "      <td>0.000000</td>\n",
       "      <td>1.000000</td>\n",
       "      <td>179.400000</td>\n",
       "      <td>101.000000</td>\n",
       "      <td>53.500000</td>\n",
       "      <td>10.070000</td>\n",
       "      <td>10.300000</td>\n",
       "    </tr>\n",
       "    <tr>\n",
       "      <th>75%</th>\n",
       "      <td>0.000000</td>\n",
       "      <td>127.000000</td>\n",
       "      <td>1.000000</td>\n",
       "      <td>1.000000</td>\n",
       "      <td>1.780000</td>\n",
       "      <td>2.000000</td>\n",
       "      <td>216.400000</td>\n",
       "      <td>114.000000</td>\n",
       "      <td>66.200000</td>\n",
       "      <td>11.770000</td>\n",
       "      <td>12.100000</td>\n",
       "    </tr>\n",
       "    <tr>\n",
       "      <th>max</th>\n",
       "      <td>1.000000</td>\n",
       "      <td>243.000000</td>\n",
       "      <td>1.000000</td>\n",
       "      <td>1.000000</td>\n",
       "      <td>5.400000</td>\n",
       "      <td>9.000000</td>\n",
       "      <td>350.800000</td>\n",
       "      <td>165.000000</td>\n",
       "      <td>111.300000</td>\n",
       "      <td>18.190000</td>\n",
       "      <td>20.000000</td>\n",
       "    </tr>\n",
       "  </tbody>\n",
       "</table>\n",
       "</div>"
      ],
      "text/plain": [
       "             Churn  AccountWeeks  ContractRenewal     DataPlan    DataUsage  \\\n",
       "count  3333.000000   3333.000000      3333.000000  3333.000000  3333.000000   \n",
       "mean      0.144914    101.064806         0.903090     0.276628     0.816475   \n",
       "std       0.352067     39.822106         0.295879     0.447398     1.272668   \n",
       "min       0.000000      1.000000         0.000000     0.000000     0.000000   \n",
       "25%       0.000000     74.000000         1.000000     0.000000     0.000000   \n",
       "50%       0.000000    101.000000         1.000000     0.000000     0.000000   \n",
       "75%       0.000000    127.000000         1.000000     1.000000     1.780000   \n",
       "max       1.000000    243.000000         1.000000     1.000000     5.400000   \n",
       "\n",
       "       CustServCalls      DayMins     DayCalls  MonthlyCharge   OverageFee  \\\n",
       "count    3333.000000  3333.000000  3333.000000    3333.000000  3333.000000   \n",
       "mean        1.562856   179.775098   100.435644      56.305161    10.051488   \n",
       "std         1.315491    54.467389    20.069084      16.426032     2.535712   \n",
       "min         0.000000     0.000000     0.000000      14.000000     0.000000   \n",
       "25%         1.000000   143.700000    87.000000      45.000000     8.330000   \n",
       "50%         1.000000   179.400000   101.000000      53.500000    10.070000   \n",
       "75%         2.000000   216.400000   114.000000      66.200000    11.770000   \n",
       "max         9.000000   350.800000   165.000000     111.300000    18.190000   \n",
       "\n",
       "          RoamMins  \n",
       "count  3333.000000  \n",
       "mean     10.237294  \n",
       "std       2.791840  \n",
       "min       0.000000  \n",
       "25%       8.500000  \n",
       "50%      10.300000  \n",
       "75%      12.100000  \n",
       "max      20.000000  "
      ]
     },
     "execution_count": 4,
     "metadata": {},
     "output_type": "execute_result"
    }
   ],
   "source": [
    "data.describe()"
   ]
  },
  {
   "cell_type": "code",
   "execution_count": 5,
   "metadata": {},
   "outputs": [
    {
     "data": {
      "text/plain": [
       "Churn              0\n",
       "AccountWeeks       0\n",
       "ContractRenewal    0\n",
       "DataPlan           0\n",
       "DataUsage          0\n",
       "CustServCalls      0\n",
       "DayMins            0\n",
       "DayCalls           0\n",
       "MonthlyCharge      0\n",
       "OverageFee         0\n",
       "RoamMins           0\n",
       "dtype: int64"
      ]
     },
     "execution_count": 5,
     "metadata": {},
     "output_type": "execute_result"
    }
   ],
   "source": [
    "# Find the missing values\n",
    "data.isna().sum()"
   ]
  },
  {
   "cell_type": "markdown",
   "metadata": {},
   "source": [
    "### Data Preparation"
   ]
  },
  {
   "cell_type": "code",
   "execution_count": 6,
   "metadata": {},
   "outputs": [
    {
     "data": {
      "text/plain": [
       "((2666, 10), (2666,), (667, 10), (667,))"
      ]
     },
     "execution_count": 6,
     "metadata": {},
     "output_type": "execute_result"
    }
   ],
   "source": [
    "from sklearn.model_selection import train_test_split\n",
    "\n",
    "\n",
    "X, y = data.drop(\"Churn\", axis=1).values, data[\"Churn\"].values\n",
    "\n",
    "X_train, X_test, y_train, y_test = train_test_split(X, y, test_size=0.2, random_state=42)\n",
    "\n",
    "# View the shape\n",
    "X_train.shape, y_train.shape, X_test.shape, y_test.shape"
   ]
  },
  {
   "cell_type": "code",
   "execution_count": 7,
   "metadata": {},
   "outputs": [],
   "source": [
    "from sklearn.preprocessing import StandardScaler\n",
    "\n",
    "scaler= StandardScaler()\n",
    "\n",
    "X_train = scaler.fit_transform(X_train)\n",
    "X_test = scaler.transform(X_test)"
   ]
  },
  {
   "cell_type": "markdown",
   "metadata": {},
   "source": [
    "## Modelling"
   ]
  },
  {
   "cell_type": "code",
   "execution_count": 8,
   "metadata": {},
   "outputs": [],
   "source": [
    "def sigmoid(z):\n",
    "    return np.where(z >= 0, \n",
    "                    1 / (1 + np.exp(-z)), \n",
    "                    np.exp(z) / (1 + np.exp(z)))\n"
   ]
  },
  {
   "cell_type": "code",
   "execution_count": 9,
   "metadata": {},
   "outputs": [],
   "source": [
    "def initialize_parameters(n_features):\n",
    "    return np.zeros((n_features  + 1, 1))"
   ]
  },
  {
   "cell_type": "code",
   "execution_count": 10,
   "metadata": {},
   "outputs": [
    {
     "data": {
      "text/plain": [
       "np.float64(1847.9303833727963)"
      ]
     },
     "execution_count": 10,
     "metadata": {},
     "output_type": "execute_result"
    }
   ],
   "source": [
    "def compute_cost(X, y, theta):\n",
    "    m = len(y)\n",
    "    X_bias = np.hstack([np.ones((X.shape[0], 1)), X])\n",
    "    h = sigmoid(X_bias @ theta)\n",
    "    \n",
    "    # Clip h to avoid log(0)\n",
    "    epsilon = 1e-15\n",
    "    h = np.clip(h, epsilon, 1 - epsilon)\n",
    "    \n",
    "    cost  =  (-1/ m) * np.sum((y * np.log(h)) + (1- y) * np.log(1 - h)) # same as sklearn logloss\n",
    "    return cost\n",
    "\n",
    "compute_cost(X_train, y_train, initialize_parameters(10))"
   ]
  },
  {
   "cell_type": "code",
   "execution_count": 11,
   "metadata": {},
   "outputs": [],
   "source": [
    "def gradient_descent(X, y, alpha, n_iterations = 10):\n",
    "    m = len(y)\n",
    "    cost_history = []\n",
    "    theta = initialize_parameters(X.shape[-1])\n",
    "    X_bias = np.hstack([np.ones((X.shape[0], 1)), X])\n",
    "\n",
    "    for _ in range(n_iterations):\n",
    "            h = sigmoid( X_bias @ theta)\n",
    "\n",
    "            gradient = (-1/m) * np.transpose(X_bias) @ ( h - y ) # shape of X (1, n) and shape of (y - h) is (1, n) we want final shape (1, 1)\n",
    "\n",
    "            theta = theta -  (alpha * gradient)\n",
    "\n",
    "            cost = compute_cost(X, y, theta)\n",
    "\n",
    "            cost_history.append(cost)\n",
    "\n",
    "    return theta, cost_history\n",
    "\n",
    "             "
   ]
  },
  {
   "cell_type": "code",
   "execution_count": 12,
   "metadata": {},
   "outputs": [
    {
     "ename": "KeyboardInterrupt",
     "evalue": "",
     "output_type": "error",
     "traceback": [
      "\u001b[1;31m---------------------------------------------------------------------------\u001b[0m",
      "\u001b[1;31mKeyboardInterrupt\u001b[0m                         Traceback (most recent call last)",
      "Cell \u001b[1;32mIn[12], line 1\u001b[0m\n\u001b[1;32m----> 1\u001b[0m theta_trained, cost_history \u001b[38;5;241m=\u001b[39m \u001b[43mgradient_descent\u001b[49m\u001b[43m(\u001b[49m\u001b[43mX_train\u001b[49m\u001b[43m,\u001b[49m\u001b[43m \u001b[49m\u001b[43my_train\u001b[49m\u001b[43m,\u001b[49m\u001b[43m \u001b[49m\u001b[38;5;241;43m0.01\u001b[39;49m\u001b[43m,\u001b[49m\u001b[43m \u001b[49m\u001b[38;5;241;43m10000\u001b[39;49m\u001b[43m)\u001b[49m\n",
      "Cell \u001b[1;32mIn[11], line 14\u001b[0m, in \u001b[0;36mgradient_descent\u001b[1;34m(X, y, alpha, n_iterations)\u001b[0m\n\u001b[0;32m     10\u001b[0m         gradient \u001b[38;5;241m=\u001b[39m (\u001b[38;5;241m-\u001b[39m\u001b[38;5;241m1\u001b[39m\u001b[38;5;241m/\u001b[39mm) \u001b[38;5;241m*\u001b[39m np\u001b[38;5;241m.\u001b[39mtranspose(X_bias) \u001b[38;5;241m@\u001b[39m ( h \u001b[38;5;241m-\u001b[39m y ) \u001b[38;5;66;03m# shape of X (1, n) and shape of (y - h) is (1, n) we want final shape (1, 1)\u001b[39;00m\n\u001b[0;32m     12\u001b[0m         theta \u001b[38;5;241m=\u001b[39m theta \u001b[38;5;241m-\u001b[39m  (alpha \u001b[38;5;241m*\u001b[39m gradient)\n\u001b[1;32m---> 14\u001b[0m         cost \u001b[38;5;241m=\u001b[39m \u001b[43mcompute_cost\u001b[49m\u001b[43m(\u001b[49m\u001b[43mX\u001b[49m\u001b[43m,\u001b[49m\u001b[43m \u001b[49m\u001b[43my\u001b[49m\u001b[43m,\u001b[49m\u001b[43m \u001b[49m\u001b[43mtheta\u001b[49m\u001b[43m)\u001b[49m\n\u001b[0;32m     16\u001b[0m         cost_history\u001b[38;5;241m.\u001b[39mappend(cost)\n\u001b[0;32m     18\u001b[0m \u001b[38;5;28;01mreturn\u001b[39;00m theta, cost_history\n",
      "Cell \u001b[1;32mIn[10], line 4\u001b[0m, in \u001b[0;36mcompute_cost\u001b[1;34m(X, y, theta)\u001b[0m\n\u001b[0;32m      2\u001b[0m m \u001b[38;5;241m=\u001b[39m \u001b[38;5;28mlen\u001b[39m(y)\n\u001b[0;32m      3\u001b[0m X_bias \u001b[38;5;241m=\u001b[39m np\u001b[38;5;241m.\u001b[39mhstack([np\u001b[38;5;241m.\u001b[39mones((X\u001b[38;5;241m.\u001b[39mshape[\u001b[38;5;241m0\u001b[39m], \u001b[38;5;241m1\u001b[39m)), X])\n\u001b[1;32m----> 4\u001b[0m h \u001b[38;5;241m=\u001b[39m \u001b[43msigmoid\u001b[49m\u001b[43m(\u001b[49m\u001b[43mX_bias\u001b[49m\u001b[43m \u001b[49m\u001b[38;5;241;43m@\u001b[39;49m\u001b[43m \u001b[49m\u001b[43mtheta\u001b[49m\u001b[43m)\u001b[49m\n\u001b[0;32m      6\u001b[0m \u001b[38;5;66;03m# Clip h to avoid log(0)\u001b[39;00m\n\u001b[0;32m      7\u001b[0m epsilon \u001b[38;5;241m=\u001b[39m \u001b[38;5;241m1e-15\u001b[39m\n",
      "Cell \u001b[1;32mIn[8], line 3\u001b[0m, in \u001b[0;36msigmoid\u001b[1;34m(z)\u001b[0m\n\u001b[0;32m      1\u001b[0m \u001b[38;5;28;01mdef\u001b[39;00m\u001b[38;5;250m \u001b[39m\u001b[38;5;21msigmoid\u001b[39m(z):\n\u001b[0;32m      2\u001b[0m     \u001b[38;5;28;01mreturn\u001b[39;00m np\u001b[38;5;241m.\u001b[39mwhere(z \u001b[38;5;241m>\u001b[39m\u001b[38;5;241m=\u001b[39m \u001b[38;5;241m0\u001b[39m, \n\u001b[1;32m----> 3\u001b[0m                     \u001b[38;5;241m1\u001b[39m \u001b[38;5;241m/\u001b[39m (\u001b[38;5;241m1\u001b[39m \u001b[38;5;241m+\u001b[39m \u001b[43mnp\u001b[49m\u001b[38;5;241;43m.\u001b[39;49m\u001b[43mexp\u001b[49m\u001b[43m(\u001b[49m\u001b[38;5;241;43m-\u001b[39;49m\u001b[43mz\u001b[49m\u001b[43m)\u001b[49m), \n\u001b[0;32m      4\u001b[0m                     np\u001b[38;5;241m.\u001b[39mexp(z) \u001b[38;5;241m/\u001b[39m (\u001b[38;5;241m1\u001b[39m \u001b[38;5;241m+\u001b[39m np\u001b[38;5;241m.\u001b[39mexp(z)))\n",
      "\u001b[1;31mKeyboardInterrupt\u001b[0m: "
     ]
    }
   ],
   "source": [
    "theta_trained, cost_history = gradient_descent(X_train, y_train, 0.01, 1000)"
   ]
  },
  {
   "cell_type": "code",
   "execution_count": null,
   "metadata": {},
   "outputs": [
    {
     "name": "stdout",
     "output_type": "stream",
     "text": [
      "My Model Log Loss: 2.73579\n"
     ]
    },
    {
     "name": "stderr",
     "output_type": "stream",
     "text": [
      "C:\\Users\\amuly\\AppData\\Local\\Temp\\ipykernel_8788\\2127998854.py:3: RuntimeWarning: overflow encountered in exp\n",
      "  1 / (1 + np.exp(-z)),\n",
      "C:\\Users\\amuly\\AppData\\Local\\Temp\\ipykernel_8788\\2127998854.py:4: RuntimeWarning: overflow encountered in exp\n",
      "  np.exp(z) / (1 + np.exp(z)))\n",
      "C:\\Users\\amuly\\AppData\\Local\\Temp\\ipykernel_8788\\2127998854.py:4: RuntimeWarning: invalid value encountered in divide\n",
      "  np.exp(z) / (1 + np.exp(z)))\n"
     ]
    }
   ],
   "source": [
    "# Use your own trained theta\n",
    "h = sigmoid(X_test @ theta_trained)\n",
    "\n",
    "# IMPORTANT: clip h to avoid log(0)\n",
    "epsilon = 1e-15\n",
    "h = np.clip(h, epsilon, 1 - epsilon)\n",
    "\n",
    "m = len(y)\n",
    "own_cost = (-1 / m) * np.sum(y_test * np.log(h) + (1 - y_test) * np.log(1 - h))\n",
    "y_pred_scratch = (h >= 0.5).astype(int)\n",
    "print(f\"My Model Log Loss: {own_cost:.5f}\")\n"
   ]
  },
  {
   "cell_type": "markdown",
   "metadata": {},
   "source": [
    "### using `sklearn` library"
   ]
  },
  {
   "cell_type": "code",
   "execution_count": null,
   "metadata": {},
   "outputs": [],
   "source": [
    "from sklearn.metrics import log_loss\n",
    "\n",
    "log_reg = LogisticRegression(fit_intercept=False, penalty=None, solver='lbfgs', max_iter=1000)\n",
    "\n",
    "log_reg.fit(X_train, y_train)\n",
    "\n",
    "y_probs = log_reg.predict_proba(X_test)[:, 1]\n",
    "\n",
    "sklearn_cost = log_loss(y_test, y_probs)\n",
    "\n"
   ]
  },
  {
   "cell_type": "code",
   "execution_count": null,
   "metadata": {},
   "outputs": [
    {
     "name": "stdout",
     "output_type": "stream",
     "text": [
      "Sklearn Log Loss: 0.64358\n",
      "My Model Log Loss: 2.73579\n",
      "Sklearn Accuracy: 0.68516\n",
      "My Model Accuracy: 0.60420\n"
     ]
    }
   ],
   "source": [
    "from sklearn.metrics import accuracy_score \n",
    "print(f\"Sklearn Log Loss: {sklearn_cost:.5f}\")\n",
    "print(f\"My Model Log Loss: {own_cost:.5f}\")\n",
    "\n",
    "y_proba_sklearn = log_reg.predict(X_test)\n",
    "print(f\"Sklearn Accuracy: {accuracy_score(y_test, y_proba_sklearn):.5f}\")\n",
    "print(f\"My Model Accuracy: {accuracy_score(y_test, y_pred_scratch):.5f}\")"
   ]
  },
  {
   "cell_type": "code",
   "execution_count": null,
   "metadata": {},
   "outputs": [
    {
     "name": "stderr",
     "output_type": "stream",
     "text": [
      "C:\\Users\\amuly\\AppData\\Local\\Temp\\ipykernel_8788\\2127998854.py:3: RuntimeWarning: overflow encountered in exp\n",
      "  1 / (1 + np.exp(-z)),\n",
      "C:\\Users\\amuly\\AppData\\Local\\Temp\\ipykernel_8788\\2127998854.py:4: RuntimeWarning: overflow encountered in exp\n",
      "  np.exp(z) / (1 + np.exp(z)))\n",
      "C:\\Users\\amuly\\AppData\\Local\\Temp\\ipykernel_8788\\2127998854.py:4: RuntimeWarning: invalid value encountered in divide\n",
      "  np.exp(z) / (1 + np.exp(z)))\n"
     ]
    },
    {
     "data": {
      "image/png": "[encoded data removed]",
      "text/plain": [
       "<Figure size 1000x500 with 4 Axes>"
      ]
     },
     "metadata": {},
     "output_type": "display_data"
    }
   ],
   "source": [
    "import matplotlib.pyplot as plt\n",
    "import seaborn as sns\n",
    "from sklearn.metrics import confusion_matrix\n",
    "\n",
    "# === 1. Get predicted classes ===\n",
    "y_pred_sklearn = log_reg.predict(X_test)  # Sklearn's prediction\n",
    "y_pred_scratch = (sigmoid(X_test @ theta_trained) >= 0.5).astype(int)  # Your model's prediction\n",
    "\n",
    "# === 2. Compute confusion matrices ===\n",
    "cm_sklearn = confusion_matrix(y_test, y_pred_sklearn)\n",
    "cm_scratch = confusion_matrix(y_test, y_pred_scratch)\n",
    "\n",
    "# === 3. Plot confusion matrices ===\n",
    "plt.figure(figsize=(10, 5))\n",
    "\n",
    "# Sklearn CM\n",
    "plt.subplot(1, 2, 1)\n",
    "sns.heatmap(cm_sklearn, annot=True, fmt='d', cmap='Blues')\n",
    "plt.title('Sklearn Confusion Matrix')\n",
    "plt.xlabel('Predicted')\n",
    "plt.ylabel('Actual')\n",
    "\n",
    "# Your model CM\n",
    "plt.subplot(1, 2, 2)\n",
    "sns.heatmap(cm_scratch, annot=True, fmt='d', cmap='Greens')\n",
    "plt.title('My Model Confusion Matrix')\n",
    "plt.xlabel('Predicted')\n",
    "plt.ylabel('Actual')\n",
    "\n",
    "plt.tight_layout()\n",
    "plt.show()\n"
   ]
  },
  {
   "cell_type": "code",
   "execution_count": null,
   "metadata": {},
   "outputs": [
    {
     "name": "stdout",
     "output_type": "stream",
     "text": [
      "=== Sklearn Classification Report ===\n",
      "              precision    recall  f1-score   support\n",
      "\n",
      "           0       0.97      0.65      0.78       566\n",
      "           1       0.31      0.89      0.46       101\n",
      "\n",
      "    accuracy                           0.69       667\n",
      "   macro avg       0.64      0.77      0.62       667\n",
      "weighted avg       0.87      0.69      0.73       667\n",
      "\n",
      "=== My Model Classification Report ===\n",
      "              precision    recall  f1-score   support\n",
      "\n",
      "           0       0.82      0.68      0.75       566\n",
      "           1       0.09      0.17      0.11       101\n",
      "\n",
      "    accuracy                           0.60       667\n",
      "   macro avg       0.45      0.43      0.43       667\n",
      "weighted avg       0.71      0.60      0.65       667\n",
      "\n"
     ]
    }
   ],
   "source": [
    "from sklearn.metrics import classification_report\n",
    "\n",
    "# === 1. Sklearn model report ===\n",
    "print(\"=== Sklearn Classification Report ===\")\n",
    "print(classification_report(y_test, y_pred_sklearn))\n",
    "\n",
    "# === 2. Your scratch model report ===\n",
    "print(\"=== My Model Classification Report ===\")\n",
    "print(classification_report(y_test, y_pred_scratch))\n"
   ]
  },
  {
   "cell_type": "code",
   "execution_count": null,
   "metadata": {},
   "outputs": [],
   "source": []
  }
 ],
 "metadata": {
  "kernelspec": {
   "display_name": ".venv",
   "language": "python",
   "name": "python3"
  },
  "language_info": {
   "codemirror_mode": {
    "name": "ipython",
    "version": 3
   },
   "file_extension": ".py",
   "mimetype": "text/x-python",
   "name": "python",
   "nbconvert_exporter": "python",
   "pygments_lexer": "ipython3",
   "version": "3.10.11"
  }
 },
 "nbformat": 4,
 "nbformat_minor": 2
}
