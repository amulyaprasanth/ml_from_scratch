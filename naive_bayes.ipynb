{
 "cells": [
  {
   "cell_type": "markdown",
   "id": "7136c38d",
   "metadata": {},
   "source": [
    "# Naive Bayes Model\n",
    "\n",
    "This model contans `naive bayes` model implementation in 2 ways\n",
    "\n",
    "1. from scratch\n",
    "2. using `naive_bayes` from `sklearn` library."
   ]
  },
  {
   "cell_type": "code",
   "execution_count": 4,
   "id": "9fcb3a10",
   "metadata": {},
   "outputs": [],
   "source": [
    "# Let's import the required libraries\n",
    "import numpy as np\n",
    "import pandas as pd\n",
    "\n",
    "%matplotlib inline\n",
    "import matplotlib.pyplot as plt\n",
    "\n",
    "from sklearn.model_selection import train_test_split\n",
    "from sklearn.naive_bayes import GaussianNB"
   ]
  },
  {
   "cell_type": "code",
   "execution_count": 5,
   "id": "2fc3c0b6",
   "metadata": {},
   "outputs": [
    {
     "data": {
      "text/plain": [
       "((2666, 10), (2666,), (667, 10), (667,))"
      ]
     },
     "execution_count": 5,
     "metadata": {},
     "output_type": "execute_result"
    }
   ],
   "source": [
    "# Import the required dataset\n",
    "data = pd.read_csv(\"data/telecom_churn.csv\")\n",
    "\n",
    "# Split the data into features and labels \n",
    "X, y = data.drop(\"Churn\", axis=1).values, data[\"Churn\"].values\n",
    "\n",
    "# Split the data into training and testing sets\n",
    "X_train, X_test, y_train, y_test = train_test_split(X, y, test_size=0.2, random_state=42)\n",
    "\n",
    "X_train.shape, y_train.shape, X_test.shape, y_test.shape"
   ]
  },
  {
   "cell_type": "markdown",
   "id": "c36f37e0",
   "metadata": {},
   "source": [
    "## Modelling\n",
    "\n",
    "### 1. From Scratch"
   ]
  },
  {
   "cell_type": "code",
   "execution_count": null,
   "id": "35ecdfd2",
   "metadata": {},
   "outputs": [],
   "source": [
    "class NaiveBayes:\n",
    "    def fit(self, X, y):\n",
    "        \n",
    "        phi = np.mean(y)\n",
    "        phi_j_given_y1 = \n"
   ]
  }
 ],
 "metadata": {
  "kernelspec": {
   "display_name": ".venv",
   "language": "python",
   "name": "python3"
  },
  "language_info": {
   "codemirror_mode": {
    "name": "ipython",
    "version": 3
   },
   "file_extension": ".py",
   "mimetype": "text/x-python",
   "name": "python",
   "nbconvert_exporter": "python",
   "pygments_lexer": "ipython3",
   "version": "3.10.11"
  }
 },
 "nbformat": 4,
 "nbformat_minor": 5
}
